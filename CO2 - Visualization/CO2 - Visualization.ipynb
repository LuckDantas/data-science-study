{
 "cells": [
  {
   "cell_type": "code",
   "execution_count": 32,
   "id": "7a4bd29d",
   "metadata": {
    "scrolled": true
   },
   "outputs": [],
   "source": [
    "import pandas as pd\n"
   ]
  },
  {
   "cell_type": "markdown",
   "id": "076f43cb",
   "metadata": {},
   "source": [
    "# Data Manipulation on the CO2 Emission Dataset"
   ]
  },
  {
   "cell_type": "code",
   "execution_count": 22,
   "id": "838b707e",
   "metadata": {},
   "outputs": [],
   "source": [
    "df = pd.read_csv('data/co2_emission.csv', sep=',')\n",
    "\n",
    "df_inf = pd.read_csv('data/continents2.csv', sep=',', usecols =['alpha-3', 'region', 'sub-region'])\n",
    "#Rename the columns of data frame\n",
    "df_inf.rename(columns={'alpha-3':'Code', 'region':'Region', 'sub-region':'Sub-Region'}, inplace=True)"
   ]
  },
  {
   "cell_type": "code",
   "execution_count": 13,
   "id": "5e96d135",
   "metadata": {},
   "outputs": [
    {
     "name": "stdout",
     "output_type": "stream",
     "text": [
      "<class 'pandas.core.frame.DataFrame'>\n",
      "RangeIndex: 20853 entries, 0 to 20852\n",
      "Data columns (total 4 columns):\n",
      " #   Column                          Non-Null Count  Dtype         \n",
      "---  ------                          --------------  -----         \n",
      " 0   Entity                          20853 non-null  object        \n",
      " 1   Code                            18646 non-null  object        \n",
      " 2   Year                            20853 non-null  datetime64[ns]\n",
      " 3   Annual CO₂ emissions (tonnes )  20853 non-null  float64       \n",
      "dtypes: datetime64[ns](1), float64(1), object(2)\n",
      "memory usage: 651.8+ KB\n"
     ]
    }
   ],
   "source": [
    "df.info()\n",
    "#Rows do not have ISO Code"
   ]
  },
  {
   "cell_type": "code",
   "execution_count": 16,
   "id": "25ee242c",
   "metadata": {},
   "outputs": [
    {
     "data": {
      "text/plain": [
       "array(['Africa', 'Americas (other)', 'Antarctic Fisheries',\n",
       "       'Asia and Pacific (other)', 'EU-28', 'Europe (other)',\n",
       "       'International transport', 'Kyrgysztan', 'Middle East',\n",
       "       'Statistical differences', 'Wallis and Futuna Islands'],\n",
       "      dtype=object)"
      ]
     },
     "execution_count": 16,
     "metadata": {},
     "output_type": "execute_result"
    }
   ],
   "source": [
    "df_na = df[df['Code'].isnull()]\n",
    "df_na['Entity'].unique()"
   ]
  },
  {
   "cell_type": "code",
   "execution_count": 24,
   "id": "2bd030c9",
   "metadata": {},
   "outputs": [
    {
     "name": "stdout",
     "output_type": "stream",
     "text": [
      "<class 'pandas.core.frame.DataFrame'>\n",
      "Int64Index: 18646 entries, 0 to 20852\n",
      "Data columns (total 4 columns):\n",
      " #   Column                          Non-Null Count  Dtype  \n",
      "---  ------                          --------------  -----  \n",
      " 0   Entity                          18646 non-null  object \n",
      " 1   Code                            18646 non-null  object \n",
      " 2   Year                            18646 non-null  int64  \n",
      " 3   Annual CO₂ emissions (tonnes )  18646 non-null  float64\n",
      "dtypes: float64(1), int64(1), object(2)\n",
      "memory usage: 728.4+ KB\n"
     ]
    }
   ],
   "source": [
    "#Filling missing code values\n",
    "#df_kgz = df_na[df_na['Entity'].isin(['Kyrgysztan'])]\n",
    "#df_kgz.fillna('KGZ', inplace=True)\n",
    "\n",
    "#df_wlf = df_na[df_na['Entity'].isin(['Wallis and Futuna Islands'])]\n",
    "#df_kgz.fillna('WLF', inplace=True)\n",
    "\n",
    "df.dropna(inplace=True)\n",
    "df.info()"
   ]
  },
  {
   "cell_type": "code",
   "execution_count": 25,
   "id": "d739d04c",
   "metadata": {},
   "outputs": [
    {
     "name": "stdout",
     "output_type": "stream",
     "text": [
      "<class 'pandas.core.frame.DataFrame'>\n",
      "Int64Index: 18646 entries, 0 to 18645\n",
      "Data columns (total 6 columns):\n",
      " #   Column                          Non-Null Count  Dtype  \n",
      "---  ------                          --------------  -----  \n",
      " 0   Entity                          18646 non-null  object \n",
      " 1   Code                            18646 non-null  object \n",
      " 2   Year                            18646 non-null  int64  \n",
      " 3   Annual CO₂ emissions (tonnes )  18646 non-null  float64\n",
      " 4   Region                          18247 non-null  object \n",
      " 5   Sub-Region                      18247 non-null  object \n",
      "dtypes: float64(1), int64(1), object(4)\n",
      "memory usage: 1019.7+ KB\n"
     ]
    }
   ],
   "source": [
    "df_merged = pd.merge(df, df_inf, how='left', on='Code')\n",
    "\n",
    "df_merged.info()"
   ]
  },
  {
   "cell_type": "code",
   "execution_count": 28,
   "id": "bd8e1dbd",
   "metadata": {},
   "outputs": [
    {
     "data": {
      "text/plain": [
       "array(['Czechoslovakia', 'World'], dtype=object)"
      ]
     },
     "execution_count": 28,
     "metadata": {},
     "output_type": "execute_result"
    }
   ],
   "source": [
    "df_merged_na = df_merged[df_merged['Region'].isnull()]\n",
    "\n",
    "df_merged_na['Entity'].unique()"
   ]
  },
  {
   "cell_type": "code",
   "execution_count": 29,
   "id": "4b96d130",
   "metadata": {},
   "outputs": [
    {
     "data": {
      "text/plain": [
       "array(['Czechoslovakia'], dtype=object)"
      ]
     },
     "execution_count": 29,
     "metadata": {},
     "output_type": "execute_result"
    }
   ],
   "source": [
    "#DROP 'World'\n",
    "df_merged = df_merged[df_merged['Entity']!= 'World']\n",
    "\n",
    "df_merged_na = df_merged[df_merged['Region'].isnull()]\n",
    "\n",
    "df_merged_na['Entity'].unique()"
   ]
  },
  {
   "cell_type": "code",
   "execution_count": 30,
   "id": "14c5c8ac",
   "metadata": {},
   "outputs": [
    {
     "name": "stdout",
     "output_type": "stream",
     "text": [
      "<class 'pandas.core.frame.DataFrame'>\n",
      "Int64Index: 18379 entries, 0 to 18645\n",
      "Data columns (total 6 columns):\n",
      " #   Column                          Non-Null Count  Dtype  \n",
      "---  ------                          --------------  -----  \n",
      " 0   Entity                          18379 non-null  object \n",
      " 1   Code                            18379 non-null  object \n",
      " 2   Year                            18379 non-null  int64  \n",
      " 3   Annual CO₂ emissions (tonnes )  18379 non-null  float64\n",
      " 4   Region                          18379 non-null  object \n",
      " 5   Sub-Region                      18379 non-null  object \n",
      "dtypes: float64(1), int64(1), object(4)\n",
      "memory usage: 1005.1+ KB\n"
     ]
    }
   ],
   "source": [
    "#Fill NaN in rows that contains 'Czechoslovakia'\n",
    "df_merged['Region'].fillna('Europe', inplace= True)\n",
    "\n",
    "df_merged['Sub-Region'].fillna('Eastern Europe', inplace=True)\n",
    "\n",
    "df_merged.info()"
   ]
  },
  {
   "cell_type": "code",
   "execution_count": 31,
   "id": "4c81fb8e",
   "metadata": {},
   "outputs": [
    {
     "data": {
      "text/html": [
       "<div>\n",
       "<style scoped>\n",
       "    .dataframe tbody tr th:only-of-type {\n",
       "        vertical-align: middle;\n",
       "    }\n",
       "\n",
       "    .dataframe tbody tr th {\n",
       "        vertical-align: top;\n",
       "    }\n",
       "\n",
       "    .dataframe thead th {\n",
       "        text-align: right;\n",
       "    }\n",
       "</style>\n",
       "<table border=\"1\" class=\"dataframe\">\n",
       "  <thead>\n",
       "    <tr style=\"text-align: right;\">\n",
       "      <th></th>\n",
       "      <th>Entity</th>\n",
       "      <th>Code</th>\n",
       "      <th>Year</th>\n",
       "      <th>Annual CO₂ emissions (tonnes )</th>\n",
       "      <th>Region</th>\n",
       "      <th>Sub-Region</th>\n",
       "    </tr>\n",
       "  </thead>\n",
       "  <tbody>\n",
       "    <tr>\n",
       "      <th>0</th>\n",
       "      <td>Afghanistan</td>\n",
       "      <td>AFG</td>\n",
       "      <td>1949</td>\n",
       "      <td>14656.0</td>\n",
       "      <td>Asia</td>\n",
       "      <td>Southern Asia</td>\n",
       "    </tr>\n",
       "    <tr>\n",
       "      <th>1</th>\n",
       "      <td>Afghanistan</td>\n",
       "      <td>AFG</td>\n",
       "      <td>1950</td>\n",
       "      <td>84272.0</td>\n",
       "      <td>Asia</td>\n",
       "      <td>Southern Asia</td>\n",
       "    </tr>\n",
       "    <tr>\n",
       "      <th>2</th>\n",
       "      <td>Afghanistan</td>\n",
       "      <td>AFG</td>\n",
       "      <td>1951</td>\n",
       "      <td>91600.0</td>\n",
       "      <td>Asia</td>\n",
       "      <td>Southern Asia</td>\n",
       "    </tr>\n",
       "    <tr>\n",
       "      <th>3</th>\n",
       "      <td>Afghanistan</td>\n",
       "      <td>AFG</td>\n",
       "      <td>1952</td>\n",
       "      <td>91600.0</td>\n",
       "      <td>Asia</td>\n",
       "      <td>Southern Asia</td>\n",
       "    </tr>\n",
       "    <tr>\n",
       "      <th>4</th>\n",
       "      <td>Afghanistan</td>\n",
       "      <td>AFG</td>\n",
       "      <td>1953</td>\n",
       "      <td>106256.0</td>\n",
       "      <td>Asia</td>\n",
       "      <td>Southern Asia</td>\n",
       "    </tr>\n",
       "  </tbody>\n",
       "</table>\n",
       "</div>"
      ],
      "text/plain": [
       "        Entity Code  Year  Annual CO₂ emissions (tonnes ) Region  \\\n",
       "0  Afghanistan  AFG  1949                         14656.0   Asia   \n",
       "1  Afghanistan  AFG  1950                         84272.0   Asia   \n",
       "2  Afghanistan  AFG  1951                         91600.0   Asia   \n",
       "3  Afghanistan  AFG  1952                         91600.0   Asia   \n",
       "4  Afghanistan  AFG  1953                        106256.0   Asia   \n",
       "\n",
       "      Sub-Region  \n",
       "0  Southern Asia  \n",
       "1  Southern Asia  \n",
       "2  Southern Asia  \n",
       "3  Southern Asia  \n",
       "4  Southern Asia  "
      ]
     },
     "execution_count": 31,
     "metadata": {},
     "output_type": "execute_result"
    }
   ],
   "source": [
    "#Final data frame\n",
    "df_merged.head()"
   ]
  },
  {
   "cell_type": "markdown",
   "id": "3ea7096f",
   "metadata": {},
   "source": [
    "# Visualising the CO2 Emission"
   ]
  },
  {
   "cell_type": "code",
   "execution_count": null,
   "id": "c960230f",
   "metadata": {},
   "outputs": [],
   "source": []
  }
 ],
 "metadata": {
  "kernelspec": {
   "display_name": "Python 3",
   "language": "python",
   "name": "python3"
  },
  "language_info": {
   "codemirror_mode": {
    "name": "ipython",
    "version": 3
   },
   "file_extension": ".py",
   "mimetype": "text/x-python",
   "name": "python",
   "nbconvert_exporter": "python",
   "pygments_lexer": "ipython3",
   "version": "3.8.8"
  }
 },
 "nbformat": 4,
 "nbformat_minor": 5
}
